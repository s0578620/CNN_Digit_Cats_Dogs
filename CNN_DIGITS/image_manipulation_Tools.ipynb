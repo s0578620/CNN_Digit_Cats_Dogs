{
 "cells": [
  {
   "cell_type": "markdown",
   "source": [
    "## Imports"
   ],
   "metadata": {
    "collapsed": false
   }
  },
  {
   "cell_type": "code",
   "execution_count": 2,
   "outputs": [],
   "source": [
    "import csv"
   ],
   "metadata": {
    "collapsed": false
   }
  },
  {
   "cell_type": "markdown",
   "source": [
    "## Copy Rows from CSV to other CSV"
   ],
   "metadata": {
    "collapsed": false
   }
  },
  {
   "cell_type": "code",
   "execution_count": 22,
   "outputs": [],
   "source": [
    "def copy_lines_from_list(numbers, input_file, output_file):\n",
    "  # Open the input file for reading\n",
    "  with open(input_file, 'r') as input_csv:\n",
    "    # Open the output file for writing\n",
    "    with open(output_file, 'w') as output_csv:\n",
    "      # Create a CSV reader and writer\n",
    "      reader = csv.reader(input_csv)\n",
    "      writer = csv.writer(output_csv)\n",
    "\n",
    "      # Keep track of the current line number\n",
    "      line_num = 0\n",
    "\n",
    "      # Iterate over the rows in the input file\n",
    "      for row in reader:\n",
    "        # If the line number is in the list of numbers, write the row to the output file\n",
    "        if line_num in numbers:\n",
    "          writer.writerow(row)\n",
    "\n",
    "        # Increment the line number\n",
    "        line_num += 1"
   ],
   "metadata": {
    "collapsed": false
   }
  },
  {
   "cell_type": "code",
   "execution_count": 23,
   "metadata": {
    "collapsed": true
   },
   "outputs": [],
   "source": [
    "copy_lines_from_list([1], './data/CSV_Manipulation/3_original.csv', './data/CSV_Manipulation/output.csv')"
   ]
  },
  {
   "cell_type": "markdown",
   "source": [
    "## Add value to specific row of csv"
   ],
   "metadata": {
    "collapsed": false
   }
  },
  {
   "cell_type": "code",
   "execution_count": 10,
   "outputs": [],
   "source": [
    "def add_ten(number, csv_file):\n",
    "  with open(csv_file, \"r\") as f:\n",
    "    reader = csv.reader(f)\n",
    "    rows = list(reader)\n",
    "\n",
    "  # get the row specified by the number\n",
    "  row = rows[number]\n",
    "\n",
    "  # add 10 to each value in the row\n",
    "  #new_row = [int(value) + 10 for value in row]\n",
    "  # add 10 to each value in the row if it is greater than 100\n",
    "  new_row = [int(value) - 10 if int(value) > 100 else value for value in row]\n",
    "\n",
    "  # write the updated row back to the CSV file\n",
    "  with open(csv_file, \"a\") as f:  # a for append w for overwrite\n",
    "    writer = csv.writer(f)\n",
    "    writer.writerow(new_row)"
   ],
   "metadata": {
    "collapsed": false
   }
  },
  {
   "cell_type": "code",
   "execution_count": 11,
   "outputs": [],
   "source": [
    "add_ten(0, \"./data/CSV_Manipulation/output.csv\")"
   ],
   "metadata": {
    "collapsed": false
   }
  },
  {
   "cell_type": "markdown",
   "source": [
    "## Invert Values"
   ],
   "metadata": {
    "collapsed": false
   }
  },
  {
   "cell_type": "code",
   "execution_count": 35,
   "outputs": [],
   "source": [
    "def add_invert(number, csv_file):\n",
    "  with open(csv_file, \"r\") as f:\n",
    "    reader = csv.reader(f)\n",
    "    rows = list(reader)\n",
    "  # get the row specified by the number\n",
    "  row = rows[number]\n",
    "\n",
    "  # invert the values in the row\n",
    "  new_row = [(255 - int(value)) for value in row]\n",
    "\n",
    "  # write the updated row back to the CSV file\n",
    "  with open(csv_file, \"a\") as f:\n",
    "    writer = csv.writer(f)\n",
    "    writer.writerow(new_row)"
   ],
   "metadata": {
    "collapsed": false
   }
  },
  {
   "cell_type": "code",
   "execution_count": 36,
   "outputs": [],
   "source": [
    "add_invert(0, \"./data/CSV_Manipulation/output.csv\")"
   ],
   "metadata": {
    "collapsed": false
   }
  },
  {
   "cell_type": "markdown",
   "source": [
    "## Set Values to a specific Value"
   ],
   "metadata": {
    "collapsed": false
   }
  },
  {
   "cell_type": "code",
   "execution_count": 31,
   "outputs": [],
   "source": [
    "def set_value(number, csv_file, newValue):\n",
    "  with open(csv_file, \"r\") as f:\n",
    "    reader = csv.reader(f)\n",
    "    rows = list(reader)\n",
    "\n",
    "  # get the row specified by the number\n",
    "  row = rows[number]\n",
    "\n",
    "  # set the values in the row that are greater than 50 to the specified value\n",
    "  new_row = [newValue if int(value) > 10 else value for value in row]\n",
    "\n",
    "\n",
    "  # write the updated row to the CSV file in append mode\n",
    "  with open(csv_file, \"a\") as f:\n",
    "    writer = csv.writer(f)\n",
    "    writer.writerow(new_row)"
   ],
   "metadata": {
    "collapsed": false
   }
  },
  {
   "cell_type": "code",
   "execution_count": 32,
   "outputs": [],
   "source": [
    "set_value(0, \"./data/CSV_Manipulation/output.csv\",255)"
   ],
   "metadata": {
    "collapsed": false
   }
  }
 ],
 "metadata": {
  "kernelspec": {
   "display_name": "Python 3",
   "language": "python",
   "name": "python3"
  },
  "language_info": {
   "codemirror_mode": {
    "name": "ipython",
    "version": 2
   },
   "file_extension": ".py",
   "mimetype": "text/x-python",
   "name": "python",
   "nbconvert_exporter": "python",
   "pygments_lexer": "ipython2",
   "version": "2.7.6"
  }
 },
 "nbformat": 4,
 "nbformat_minor": 0
}
